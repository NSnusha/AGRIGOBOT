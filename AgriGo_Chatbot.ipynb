{
  "nbformat": 4,
  "nbformat_minor": 0,
  "metadata": {
    "colab": {
      "name": "AgriGo  Chatbot.ipynb",
      "provenance": [],
      "collapsed_sections": []
    },
    "kernelspec": {
      "name": "python3",
      "display_name": "Python 3"
    },
    "language_info": {
      "name": "python"
    }
  },
  "cells": [
    {
      "cell_type": "code",
      "metadata": {
        "id": "FoaRo8prKJ07",
        "colab": {
          "base_uri": "https://localhost:8080/"
        },
        "outputId": "7f4a693d-4f17-41bd-8739-bcebba16a0a5"
      },
      "source": [
        " pip install nltk"
      ],
      "execution_count": 1,
      "outputs": [
        {
          "output_type": "stream",
          "text": [
            "Requirement already satisfied: nltk in /usr/local/lib/python3.7/dist-packages (3.2.5)\n",
            "Requirement already satisfied: six in /usr/local/lib/python3.7/dist-packages (from nltk) (1.15.0)\n"
          ],
          "name": "stdout"
        }
      ]
    },
    {
      "cell_type": "code",
      "metadata": {
        "id": "p_h8pz4tLzE8",
        "colab": {
          "base_uri": "https://localhost:8080/"
        },
        "outputId": "7618effd-8a5b-4b52-cd24-59a2e066e750"
      },
      "source": [
        "pip install newspaper3k"
      ],
      "execution_count": 2,
      "outputs": [
        {
          "output_type": "stream",
          "text": [
            "Requirement already satisfied: newspaper3k in /usr/local/lib/python3.7/dist-packages (0.2.8)\n",
            "Requirement already satisfied: PyYAML>=3.11 in /usr/local/lib/python3.7/dist-packages (from newspaper3k) (3.13)\n",
            "Requirement already satisfied: tldextract>=2.0.1 in /usr/local/lib/python3.7/dist-packages (from newspaper3k) (3.1.0)\n",
            "Requirement already satisfied: jieba3k>=0.35.1 in /usr/local/lib/python3.7/dist-packages (from newspaper3k) (0.35.1)\n",
            "Requirement already satisfied: requests>=2.10.0 in /usr/local/lib/python3.7/dist-packages (from newspaper3k) (2.23.0)\n",
            "Requirement already satisfied: python-dateutil>=2.5.3 in /usr/local/lib/python3.7/dist-packages (from newspaper3k) (2.8.1)\n",
            "Requirement already satisfied: nltk>=3.2.1 in /usr/local/lib/python3.7/dist-packages (from newspaper3k) (3.2.5)\n",
            "Requirement already satisfied: feedparser>=5.2.1 in /usr/local/lib/python3.7/dist-packages (from newspaper3k) (6.0.2)\n",
            "Requirement already satisfied: cssselect>=0.9.2 in /usr/local/lib/python3.7/dist-packages (from newspaper3k) (1.1.0)\n",
            "Requirement already satisfied: tinysegmenter==0.3 in /usr/local/lib/python3.7/dist-packages (from newspaper3k) (0.3)\n",
            "Requirement already satisfied: beautifulsoup4>=4.4.1 in /usr/local/lib/python3.7/dist-packages (from newspaper3k) (4.6.3)\n",
            "Requirement already satisfied: feedfinder2>=0.0.4 in /usr/local/lib/python3.7/dist-packages (from newspaper3k) (0.0.4)\n",
            "Requirement already satisfied: Pillow>=3.3.0 in /usr/local/lib/python3.7/dist-packages (from newspaper3k) (7.1.2)\n",
            "Requirement already satisfied: lxml>=3.6.0 in /usr/local/lib/python3.7/dist-packages (from newspaper3k) (4.2.6)\n",
            "Requirement already satisfied: idna in /usr/local/lib/python3.7/dist-packages (from tldextract>=2.0.1->newspaper3k) (2.10)\n",
            "Requirement already satisfied: filelock>=3.0.8 in /usr/local/lib/python3.7/dist-packages (from tldextract>=2.0.1->newspaper3k) (3.0.12)\n",
            "Requirement already satisfied: requests-file>=1.4 in /usr/local/lib/python3.7/dist-packages (from tldextract>=2.0.1->newspaper3k) (1.5.1)\n",
            "Requirement already satisfied: chardet<4,>=3.0.2 in /usr/local/lib/python3.7/dist-packages (from requests>=2.10.0->newspaper3k) (3.0.4)\n",
            "Requirement already satisfied: certifi>=2017.4.17 in /usr/local/lib/python3.7/dist-packages (from requests>=2.10.0->newspaper3k) (2020.12.5)\n",
            "Requirement already satisfied: urllib3!=1.25.0,!=1.25.1,<1.26,>=1.21.1 in /usr/local/lib/python3.7/dist-packages (from requests>=2.10.0->newspaper3k) (1.24.3)\n",
            "Requirement already satisfied: six>=1.5 in /usr/local/lib/python3.7/dist-packages (from python-dateutil>=2.5.3->newspaper3k) (1.15.0)\n",
            "Requirement already satisfied: sgmllib3k in /usr/local/lib/python3.7/dist-packages (from feedparser>=5.2.1->newspaper3k) (1.0.0)\n"
          ],
          "name": "stdout"
        }
      ]
    },
    {
      "cell_type": "code",
      "metadata": {
        "id": "_5IYwlK0L-Ny"
      },
      "source": [
        "#import libraries\n",
        "from newspaper import Article\n",
        "\n",
        "import random\n",
        "import string\n",
        "import nltk\n",
        "from sklearn.feature_extraction.text import CountVectorizer\n",
        "from sklearn.metrics.pairwise import cosine_similarity\n",
        "import numpy as np\n",
        "import warnings\n",
        "import pandas as pd \n",
        "import nltk\n",
        "from nltk.corpus import PlaintextCorpusReader\n",
        "warnings.filterwarnings('ignore')"
      ],
      "execution_count": 3,
      "outputs": []
    },
    {
      "cell_type": "code",
      "metadata": {
        "colab": {
          "base_uri": "https://localhost:8080/"
        },
        "id": "268x02-S6sGq",
        "outputId": "4f7390a2-0b0d-43ea-e89c-2245fb9cebed"
      },
      "source": [
        "nltk.download('punkt',quiet=True)"
      ],
      "execution_count": 4,
      "outputs": [
        {
          "output_type": "execute_result",
          "data": {
            "text/plain": [
              "True"
            ]
          },
          "metadata": {
            "tags": []
          },
          "execution_count": 4
        }
      ]
    },
    {
      "cell_type": "code",
      "metadata": {
        "colab": {
          "base_uri": "https://localhost:8080/"
        },
        "id": "ktOElYC9v-Q1",
        "outputId": "bc6f578a-c202-4ef2-b04e-9e6cce7d1086"
      },
      "source": [
        "example1 = \"/agricitease1.txt\"\n",
        "file1 = open(example1, \"r\")\n",
        "FileContent = file1.read()\n",
        "\n",
        "print(FileContent)"
      ],
      "execution_count": 5,
      "outputs": [
        {
          "output_type": "stream",
          "text": [
            " \"AGRICITEASE\" affinity founding between Farmers and Consumers\n",
            " is an all-inclusive digital platform designed to assist farmers in selling their products The new move will eliminate the need for farmers to sell their products through retailers that will escalate in farmer's profits. Our web application and android app consists of three portals\n",
            "Farmer -- one can upload their details and farm details as well. Farmers will also be advised about the crop productivity based on present crop statistics\n",
            "\n",
            "Consumer -- Can purchase the products at fair price\n",
            "Representative -- The one who works on behalf of unlettered and novice users by uploading their farm details and can earn about 5-10% on each fortunate deal. Empowers employment for jobless.\n",
            "\n",
            "For the feasibility of end user our app even provides language translation.\n",
            "\n",
            "Market - Our Customers are Consumers and Users are Farmers and Representative. \n",
            "We mainly want to Focus on customers who buy the yield in bulk amounts like Restaraunts, Hostels, Catering services etc; \n",
            "\n",
            "Features of Farmers Interface:\n",
            "Farmers can upload their farm details and store them to be displayed for the consumers\n",
            "Farmers can relate with the consumers through video calling to have a better experience and worthy trust\n",
            "Can view the information in their required languages \n",
            "Educating journals regarding seasonal crops and statistics of the profitable crops are provided for next harvest. \n",
            "\n",
            "Features of Representatives Interface\n",
            "Representatives can earn their living by aiding farmers in their\n",
            "Representatives can upload farmers farm details .  \n",
            "\n",
            "Features of Consumers Interface\n",
            "Consumer can have a Video Conference with the farmer for better experience\n",
            "More Information about Farmers is provided for the consumers for their further contact purposes\n",
            "Consumer can view the crops and filter them based on the type and delivery date of the  crop  \n",
            "Consumer can rate the quality of crop and can even given suggestions to the farmer\n",
            "\n",
            "Delivery - The yield will get delilvered in span of 10-15days.\n",
            "\n"
          ],
          "name": "stdout"
        }
      ]
    },
    {
      "cell_type": "code",
      "metadata": {
        "colab": {
          "base_uri": "https://localhost:8080/"
        },
        "id": "LdNhZjCUxsvj",
        "outputId": "54e87bce-648c-4a62-9a07-df89d5b18366"
      },
      "source": [
        "text = FileContent\n",
        "agricitease_list = nltk.sent_tokenize(text)\n",
        "print(agricitease_list)"
      ],
      "execution_count": 6,
      "outputs": [
        {
          "output_type": "stream",
          "text": [
            "[' \"AGRICITEASE\" affinity founding between Farmers and Consumers\\n is an all-inclusive digital platform designed to assist farmers in selling their products The new move will eliminate the need for farmers to sell their products through retailers that will escalate in farmer\\'s profits.', 'Our web application and android app consists of three portals\\nFarmer -- one can upload their details and farm details as well.', 'Farmers will also be advised about the crop productivity based on present crop statistics\\n\\nConsumer -- Can purchase the products at fair price\\nRepresentative -- The one who works on behalf of unlettered and novice users by uploading their farm details and can earn about 5-10% on each fortunate deal.', 'Empowers employment for jobless.', 'For the feasibility of end user our app even provides language translation.', 'Market - Our Customers are Consumers and Users are Farmers and Representative.', 'We mainly want to Focus on customers who buy the yield in bulk amounts like Restaraunts, Hostels, Catering services etc; \\n\\nFeatures of Farmers Interface:\\nFarmers can upload their farm details and store them to be displayed for the consumers\\nFarmers can relate with the consumers through video calling to have a better experience and worthy trust\\nCan view the information in their required languages \\nEducating journals regarding seasonal crops and statistics of the profitable crops are provided for next harvest.', 'Features of Representatives Interface\\nRepresentatives can earn their living by aiding farmers in their\\nRepresentatives can upload farmers farm details .', 'Features of Consumers Interface\\nConsumer can have a Video Conference with the farmer for better experience\\nMore Information about Farmers is provided for the consumers for their further contact purposes\\nConsumer can view the crops and filter them based on the type and delivery date of the  crop  \\nConsumer can rate the quality of crop and can even given suggestions to the farmer\\n\\nDelivery - The yield will get delilvered in span of 10-15days.']\n"
          ],
          "name": "stdout"
        }
      ]
    },
    {
      "cell_type": "code",
      "metadata": {
        "id": "Y-rYcWQnnPoT"
      },
      "source": [
        "agricitease_list1 = ['agricitease','farmer','consumer','representative','delivery timmigs','delivery','features','farmer features','consumer features','representative features','web application','website']"
      ],
      "execution_count": 7,
      "outputs": []
    },
    {
      "cell_type": "code",
      "metadata": {
        "id": "ekgsRC1pmheI",
        "colab": {
          "base_uri": "https://localhost:8080/"
        },
        "outputId": "1e49ddc6-62ed-44d1-80fe-1d1dd330e330"
      },
      "source": [
        "!pip install fontstyle --upgrade\n",
        "import fontstyle"
      ],
      "execution_count": 8,
      "outputs": [
        {
          "output_type": "stream",
          "text": [
            "Requirement already up-to-date: fontstyle in /usr/local/lib/python3.7/dist-packages (1.0.1.2)\n",
            "Requirement already satisfied, skipping upgrade: setuptools in /usr/local/lib/python3.7/dist-packages (from fontstyle) (56.1.0)\n"
          ],
          "name": "stdout"
        }
      ]
    },
    {
      "cell_type": "code",
      "metadata": {
        "id": "hlC-L8w2M5dr",
        "colab": {
          "base_uri": "https://localhost:8080/"
        },
        "outputId": "a712b83f-14cc-44bc-ab4a-a93301ceda1d"
      },
      "source": [
        "nltk.download('punkt',quiet=True)"
      ],
      "execution_count": 9,
      "outputs": [
        {
          "output_type": "execute_result",
          "data": {
            "text/plain": [
              "True"
            ]
          },
          "metadata": {
            "tags": []
          },
          "execution_count": 9
        }
      ]
    },
    {
      "cell_type": "code",
      "metadata": {
        "id": "YKHOuHdmNAaG"
      },
      "source": [
        "article = Article('https://agritech.tnau.ac.in/agricultural_marketing/agrimark_India.html')\n",
        "article.download()\n",
        "article.parse()\n",
        "article.nlp()\n",
        "agri = article.text"
      ],
      "execution_count": 10,
      "outputs": []
    },
    {
      "cell_type": "code",
      "metadata": {
        "id": "USMq11K_NhPa",
        "colab": {
          "base_uri": "https://localhost:8080/"
        },
        "outputId": "049fab30-b763-43a8-ae72-28b5fc4c6786"
      },
      "source": [
        "print(agri)\n"
      ],
      "execution_count": 11,
      "outputs": [
        {
          "output_type": "stream",
          "text": [
            "Agricultural Marketing in India\n",
            "\n",
            "Agricultural Marketing in Tamilnadu Agricultural Marketing in India India is an agricultural country and one third population depends on the agricultural sector directly or indirectly. Agriculture remains as the main stray of the Indian economy since times immemorial. Indian agriculture contribution to the national gross domestic product (GDP) is about 25 per cent. With food being the crowning need of mankind, much emphasis has been on commercialising agricultural production. For this reason, adequate production and even distribution of food has of late become a high priority global concern. Agricultural marketing is mainly the buying and selling of agricultural products. In earlier days when the village economy was more or less self-sufficient the marketing of agricultural products presented no difficulty as the farmer sold his produce to the consumer on a cash or barter basis. Today's agricultural marketing has to undergo a series of exchanges or transfers from one person to another before it reaches the consumer. There are three marketing functions involved in this, i.e., assembling, preparation for consumption and distribution. Selling on any agricultural produce depends on some couple of factors like the demand of the product at that time, availability of storage etc. The products may be sold directly in the market or it may be stored locally for the time being. Moreover, it may be sold as it is gathered from the field or it may be cleaned, graded and processed by the farmer or the merchant of the village. Sometime processing is done because consumers want it, or sometimes to conserve the quality of that product. The task of distribution system is to match the supply with the existing demand by whole selling and retailing in various points of different markets like primary, secondary or terminal markets.\n",
            "\n",
            "Most of the agricultural products in India are sold by farmers in the private sector to moneylenders (to whom the farmer may be indebted) or to village traders. Products are sold in various ways. For example, it might be sold at a weekly village market in the farmer's village or in a neighboring village. If these outlets are not available, then produce might be sold at irregularly held markets in a nearby village or town, or in the mandi. In India, there are several central government organisations, who are involved in agricultural marketing like, Commission of Agricultural Costs and Prices, Food Corporation of India, Cotton Corporation of India, Jute Corporation of India, etc. There are also specialised marketing bodies for rubber, tea, coffee, tobacco, spices and vegetables.\n",
            "\n",
            "Under the Agricultural Produce (grading and marketing) Act of 1937, more than forty primary commodities are compulsorily graded for export and voluntarily graded for internal consumption. Although the regulation of commodity markets is a function of state government, the directorate of marketing and inspection provides marketing and inspection services and financial aid down to the village level to help set up commodity grading centers in selected markets. As we have a tradition of agricultural production, marketing and allied commercial activities, now it is the time for us to brainstorm and come out with new ideas of value added services. These value added services will give the existing agricultural engine a new dimension. The next logical step could be food-processing which not only could be another revenue generating area but also can provide lots of full-time employment to our youths. With the changing agricultural scenario and global competition, there is a need of exploiting the available resources at maximum level. There was a survey undertaken by the directorate of marketing and inspection in the ministry of agriculture in 1970-71 and 1971-72, of five hundred regulated markets was, with a view to assessing the adequacy and efficiency of the existing regulated markets and highlighting their drawbacks and deficiencies and suggesting measures to develop them. One of the most important drawbacks has been the inadequate financial resources of some of the market committees. During the fourth plan, a central sector scheme was drawn up by the ministry of agriculture to provide a grant at 20 per cent of the cost of development of market, subject to a maximum of Rs. 2 lakhs. The balance will have to be provided by the commercial banks. Another important development in the field of regulated markets is the keen interest taken by the International Development Agency (IDA) in the development of the infrastructure in regulated markets. The IDA is financing the development of infrastructure in 50 markets of Bihar. There are also some good news on the front of irrigation, rural infrastructure, restoring water bodies and water harvesting. Another action initiated to improve the governance of the Small Farmers Agri-business Consortium (SFAC) including the appointment of a banker as the chief executive; necessary additional capital to be provided to SFAC. Source:http://www.domain-b.com/economy/agriculture/20040713_marketing.html Top Agricultural Marketing in Tamilnadu Introduction\n",
            "\n",
            "The Vision of the Department of Agricultural Marketing & Agri Business is to ensure fair price to the farming community who are left behind in the competitive marketing scenario and the mission of achieving this is by enforcing the existing act and rules most effectively and also by devising, implementing new technologies aimed at reducing pre and post harvest losses through appropriate methods and encourage value addition. Green Revolution initiatives achieved self-sufficiency by increasing food grains production. Simultaneously, several initiatives have been taken to promote agricultural marketing in the state. Agricultural Marketing infrastructure plays a pivotal role in fostering and sustaining the tempo of rural economic development. Marketing is as critical to better performance in agriculture as farming itself. Agri Business is a process, which starts with a decision to produce a saleable farm commodity and it involves all the aspects relating to pre and post-harvest operations including grading, value addition, packaging, processing and transportation. These operations add value to farm produce. The Department of Agricultural Marketing, which is functioning since 1977, with the main objective of Regulation of Agricultural Marketing, was renamed in the year 2001 as Department of Agricultural Marketing and Agri. Business in order to focus on other activities like Agri Export, Post Harvest Management, Food Processing, etc. Restructure One Deputy Director of Agriculture (Agri Business) for each district, one Agricultural Officer for every two blocks, one Assistant Agricultural Officer for one block have been posted as per restructuring to regulate Agri Business and encourage entrepreneurs. In 103\n",
            "\n",
            "Uzhavar Sandhais, 51 Agricultural Officers and 52 Deputy Agricultural Officers are posted. After restructuring 239 original posts have been enhanced to 906 posts in Agricultural Marketing and Agri Business Department. The Main Activities Establishment and maintenance of Uzhavar Sandhaigal for the benefit of farmers as well as consumers.\n",
            "\n",
            "To create marketing opportunities for small and marginal farmers in cultivation of fruits, vegetables and flowers by formation of groups which includes production, storing and export.\n",
            "\n",
            "Establishment and maintenance of regulated markets in order to facilitate buying and\n",
            "\n",
            "selling of agricultural produce for the benefit of the farming community.\n",
            "\n",
            "Grading of agricultural produce in the regulated markets and at farm holdings to help the producers to get remunerative price for their produce.\n",
            "\n",
            "To create awareness among the farmers about the benefits of grading, marketing, value addition and processing their produce through regulated markets by taking up training, publicity and propaganda.\n",
            "\n",
            "To set up Agriculture Export Zones for promoting export of agricultural produce by increasing the area under exportable crops, providing necessary post harvest management and other infrastructure required and information on prices prevailing at international markets as an integrated approach through computers.\n",
            "\n",
            "To take up Agmark grading of agricultural, animal husbandry and forestry products for the benefit of the consumers.\n",
            "\n",
            "To set up modern cold storage facilities to enable the farmers to store and sell their produce at favourable price and to help consumers to get quality food products.\n",
            "\n",
            "Food Processing Industries are promoted to minimise wastage of agricultural products,\n",
            "\n",
            "to increase employment opportunities and to enhance foreign exchange. MARKET COMMITTEES\n",
            "\n",
            "At present 21 Market committees are functioning in Tamil Nadu at district Level. Top 1.Regulated Markets There are 277 Regulated Markets, 15 Check Posts, 108 Rural Godowns and 108 grading centres functioning under the Market Committees, Competitive and remunerative prices are ensured for the produce sold by the farmers through closed tender system in the Regulated Markets. Free Grading facilities for agricultural commodities and issuing pledge loan during distress sale are also available in the Regulated Markets. The farmers of states of Maharashtra, Karnataka and Andhra Pradesh, sell their produce only through regulated markets as compulsory marketing is in force. 1 to 2 % of the value of the produce is collected as market fees from the traders who procure the produce from the farmers. The procurement method is simplified in Tamilnadu so as to benefit the farmer. 1% of the value of the produce is collected as market fee from traders. Action is being taken for the construction of own building for Nilgiris Market Committee and 4 regulated markets at Ooty, Kothagiri, Coonur and Gudalur during this year at a cost of Rs. 3.25 crores. Necessary steps will be taken to acquire land for this purpose through District Collector, Nilgiris. 2.Services Rendered in the Regulated Markets Regulated Markets provides facilities such as correct weighment by using electronic weigh bridges and weighing balances, godown facilities, bank facility, immediate payment, daily price information, rest sheds, drinking water facility, cattle sheds, free medical aid to farmers, input shops, phone and fax facilities etc. Under \"AGMARKNET\" centrally sponsored scheme 93 regulated markets have been provided with computer and Internet connectivity for effective price dissemination among farmers through AGMARKNET website. The information on commodity prices prevailing in various markets is made available; the farmers would be able to get better price of their produce by moving their produce to the market which pays higher. During the year 2007-08, 100 Regulated markets were computerized through AGMARKNET. The Market Committee-wise infrastructure facilities provided in the Regulated 3.Notification of produce So far, 42 Agricultural Commodities like cereals, millets, pulses, oilseeds, cotton, turmeric, etc. have been notified. Necessary action is being taken for Uniform notification of agricultural commodities throughout the state during this financial year. 4.Pledge Loan Facilities to Farmers In order to avoid distress sales by the small and marginal farmers in the peak season, Regulated Markets are issuing pledge loan to farmers. Under this scheme, the farmers can store their agricultural produce in the godowns of Regulated Markets for a maximum period of 6 months and take pledge loan of 75% of the total value of the produce upto a maximum of Rs.1,00,000. Likewise Pledge Loan facilities are extended to traders also with the rate of interest specified from time to time. Interest at the rate 9% for traders is charged for pledge loan facilities. During the previous financial year interest rates were reduced from 8% to 5% for the benefit of farmers. 5.Tamil Nadu Farmers Development and Welfare Scheme Under this scheme, the farmers / tenants who sell one metric tone of paddy (or) equivalent value of their agricultural produce through Regulated Markets every year will be enrolled under this scheme and are eligible for a grant of a lumpsum amount up to Rs. 1,00,000, in case of death/ permanent disability occurring due to accident / death due to snake bite. In case the eligible farmer / tenant looses both the hands or either the legs or both the eyes due to accident, is eligible for a grant of Rs.75, 000/-. Incase of losing one hand or one leg or one eye or hip disability due to accident the farmer / tenant is eligible for a grant of Rs.50,000/-. The farmers need not pay any premium for this fund. The Market Committee concerned and the Tamil Nadu State Agricultural Marketing Board will bear the premium amount of Rs.10 per individual per year equally. 6.Agmark Grading Agmark grading is undertaken to protect the consumers from the ill effects of consuming adulterated food commodities and to ensure quality food products. 30 Agmark grading laboratories and 1 Principal Agmark Grading Laboratory are engaged in grading the notified food products like vegetableoils, ghee, butter, honey, wheatflour, besanflour, ground spices, sago, rice, pulses, ragi, jaggery, turmeric, potato etc. During the previous financial year, sophisticated equipments has been purchased for Rs. 25.46 lakhs under Part- II Scheme for State Agmark grading Labs and Agricultural Marketing Centres in order to benefit the packers and consumers. Top 7.Construction of Drying Yards in the Villages Out of 10% of Agricultural commodity wastage, 6% loss is due to not adhering proper post harvest practices. In order to minimise the post harvest losses in grains, the department has taken up construction of drying yards at village level. From the year 1997 under this scheme, 1228 drying yards have been constructed at a total cost of Rs.23.20 crores. During the year 2007- 08 construction of 100 Drying Yards at a cost of Rs. 2.50 crores is under progress. This scheme shall continue during 2008 – 09. Uzhavar Sandhaigal 103 uzhavar Sandhais are functioning in the state in Municipality and Town Panchayat areas for direct selling of fruits and vegetables by farmers to consumers without any hindrance of middlemen. The main object of Uzhavar Sandhai are to ensure farmers to get a better price for their produce and to enable the consumers to get fresh fruits and vegetables at a lesser price than the retail market price. During the year 2007- 08, action is being taken to establish 50 more Uzhavar Sandhais at a cost of Rs. 11.25 crores. Hasthampatti Uzhavar Sandhai in Salem district has been inaugurated on 14.01.2008. As on date 104 Uzhavar Sandhais are functioning .Action is being taken to establish the remaining 49 Uzhavar Sandhais. Cold storage rooms of 2.0 M.T. capacities are to be installed in 22 top performing Uzhavar Sandhais at a cost of Rs.133.10 lakhs.\n",
            "\n",
            "Various measures are taken by this Department to increase the arrivals in Uzhavar Sandhai, increase the number of farmers and for development of Uzhavar Sandhai. Everyday, on an average, 1053 MT of fruits and vegetable worth Rs.108 lakhs are sold benefiting 7800 farmers and 1,97,000 consumers per day. Services to be rendered in the Uzhavar Sandhaigal\n",
            "\n",
            "Additional facilities like electronic weighing scale, Plastic trays, trolleys, wastage bins will be provided for the farmers in the Uzhavar Sandhaigal. Computers for effective communication, new hybrid seeds, seedlings, organic farming methodology, vermicomposting demonstration and post harvest management training to farmers will also be offered to those farmers visiting Uzhavar Sandhai. 25 Uzhavar Sandhais have been supplied with computers. ESTABLISHMENT OF MARKET COMPLEX 1.Establishment of Market Complex for Mango and Onion. For the interest of the small and marginal farmers action is being taken to establish market complex with cold storage facility at Pongalur in Coimbatore District for Onion and at Krishnagiri in Krishnagiri District for Mango at a project cost of Rs. 2 crores each (Total Rs.4 crores). Entrepreneurs have submitted their Expression of Interest and Detailed Project Report. The Projects were evaluated by the evaluation committee and the evaluation report and joint venture agreement with M/S Premium Farm Fresh Produces Limited, New Delhi as a equity partner with Tamilnadu State Agricultural Marketing Board is under consideration. 2.Establishment of Market Complex for Grapes at Odaipatti, Theni District. Cold storage unit at Odaipatti in Theni District will be established at a cost of Rs. 3.75 crores for grapes in order to facilitate grading, packing and export of grapes, so as to benefit the grape growers. The evaluation proposal submitted by M/s. Peninsula Agro Tech India Ltd. of Theni District as a equity partner with Tamilnadu Agricultural Marketing Board is under consideration. Top 3.Establishment of Terminal Markets As per the guidelines of the central Government, three Terminal Markets with all value addition facilities would be established near metro areas of Chennai, Madurai and Coimbatore for processing, storage and marketing of perishables like fruits and vegetables at a total cost ofRs.200 crores. Consultants have been selected to implement the project. M/s Darasha and company private ltd Mumbai, selected as a consultancy agency for implementing the Terminal Market scheme in Tamil Nadu. An Agreement was executed with the consultancy firm on 10.12.07 by Tamilnadu State Agricultural Marketing Board, Chennai to prepare RFQ, RFP and DPR. Global Tender has been floated. Agricultural Production and Marketing Information Centre Market intelligence plays a vital role in marketing agricultural produce. If the information on commodity prices prevailing in various markets is made available, the farmers would be able to get better price to their produce by moving their produce to the market which pays higher. Taking this aspect into consideration, Agricultural Production and Marketing Information Centre has been established in 14 Regulated Markets like Dindugal, Alangudi, Madurai, Thirumangalam, Theni, Sivagangai, Ramanathapuram, Aruppukottai, Virudhunagar, Rajapalayam, Tirunelveli, Tuticorin, Vadaseri and Monday Market at a cost of Rs.45.00 lakhs. These centres were provided with computer and accessories with internet facility and electronic display boards. Agricultural Produce arrival, price details and post harvest management practices in the regulated markets are flashed in the Electronic display boards, for the benefit of farmers. AGRI EXPORT ZONES\n",
            "\n",
            "To promote Agri Horticultural Produce Exports from Tamil Nadu, four Agri Export Zones for specific commodities have been established as detailed below. 1 Agri Export Zone for Cut Flowers at Hosur comprising of Dharmapuri and Krishnagiri Districts In Tamil Nadu, Agri Export Zone for cut flowers has been approved and Memorandum of Understanding was signed with APEDA. In 198.73 acres of land, “TANFLORA”, a joint venture company of TIDCO and private promoter established infrastructural facilities like Central Packing House comprising of sorting, grading, packaging, cold storage and marketing facilities at Hosur at a cost of Rs. 24.85 crores. During the year 2007-08, 120 lakhs of cut flowers worth Rs.12 Crores have been exported to Europe, Middle and Far East Asian countries, Australia and Japan 2.Agri Export Zone for flowers in Nilgiris District. An Agri Export Zone for flowers at Ooty covering Nilgiris district is being established with the participation by private promoter at a project cost of Rs. 15.89 crores. Memorandum of Understanding has been signed with APEDA. Infrastructure facilitie s like auction centre, mother plant nursery, pre-cooling, cold storage, reefer vans, Hi-tech training centre, common marketing facility, etc., are to be provided in the zone. The department of Horticulture & Plantation Crops is conducting Hi-tech floriculture training and providing planting materials at 50% subsidized cost and subsidy for green houses, shade nets to flower growers. An information centre for providing technical consultancy and other horticultural information to the growers established at Ooty.\n",
            "\n",
            "On 6.2.2007, Electronic Flower Auction centre at a cost of Rs. 11 lakhs has been\n",
            "\n",
            "opened in Nilgiris and it is utilised by the farmers to sell their flowers. 3.Agri Export Zone for Mangoes in Theni District. An Agri Export Zone exclusively for mango has been established in Theni and five other districts namely Madurai, Virudhunagar, Tirunelveli, Dindigul and Kaniyakumari with private sector participation at a project cost of Rs.24.60 crores. Memorandum of Understanding has been signed with APEDA. The private promoter M/s. Maagrita Exports Limited has established infrastructure facilities like state of the art Pack House, collection centre, processing units, grading halls, hot-water treatment plant, pulping centre, dehydration unit, canning unit, etc. in Nilakkottai Food Park. Top 4.Agri Export Zone for Cashew in Cuddalore District. Agri Export Zone for cashew at a project cost of Rs. 17 crores at Cuddalore district has been approved. Memorandum of Understanding has been singed with APEDA. M/s Sattva Agro Export Pvt.Ltd., has been selected as the anchor promoter for cashew Agri Export Zone through private promoter participation. The Detailed Project Report for the construction of common infrastructure facilities was prepared by M/S Sattva Exports and handed over to TIDCO. TIDCO has approved to release an amount of Rs. 47.25 lakhs as State equity to M/S Sattva Agro Export Pvt. Ltd. The Agri Export Zone work commenced in the year 2006-07 and the construction of infrastructure facilities and modernised nurseries is under progress. A survey has been conducted by the Firm for the procurement of cashew from 120 farmers through contract farming. Establishment of Cold Chain In Tamil Nadu 100 lakh M.T. of fruits & vegetables, 75 lakh M.T. of food grains, 3 lakh M.T. of spices and condiments, 5 lakh M.T. of plantation crops are produced. The production of these produces by adopting advanced technologies likely to increase by 30% in the next 5 years. Out of the total production 8-10% of food grains, 30-35% of fruits and vegetables are wasted due to nonavailability of proper storage/cold storage facility. Due to this farmers get 15-25% less price for their produce. To minimize post harvest losses of agricultural produce, especially fruits and vegetables, cereals, spices and plantation crops, it is proposed to set up Cold Chain through public-private participation utilising NABARD fund and NHB subsidy in 15 places. These cold chains will be established taking into consideration the proximity of the vegetable producing area, trading area, public places like community centres, agricultural extension centres etc. Food Processing Industries Processing of food eliminates wastage of agricultural produce to a greater extent. Food processing is gaining momentum as food-processing industries ensure steady and better price to the farming community as well as availability of the commodities in processed form to the consumer throughout the year. By cultivation of good quality processable agricultural produce the farmers stand to gain better returns and employment opportunity. The Agricultural Marketing and Agri Business department acts as a Nodal agency for Ministry of Food Processing Industries, Government of India. Food Park at Dindigul District, Nilakkottai Industrial Estate is being set up at a total cost of Rs.13.00 crores. In Total, from Tamilnadu 441 proposals worth Rs.555.93 crores to establish food processing related projects have been forwarded to the Ministry of Food Processing Industries, Government of India with recommendations for grant of Rs. 97.51 Crores. So far an amount of Rs. 42.95 Crores grant has been released for 197 projects. Tamil Nadu Small Farmers Agri-business Consortium (TNSFAC) The main objective of TNSFAC is to link the small farmers to technologies as well as to market in association with private, corporate, co-operative sectors, by providing both forward and backward linkages. The venture capital assistance of Rs.563.77 lakhs for 20 projects with a project cost of Rs. 4909.51 lakhs has been sanctioned by Small Farmers Agri-business Consortium. Tamil Nadu State Agricultural Marketing Board\n",
            "\n",
            "The important functions of the Board are as follows: 1.Publicity and Propaganda\n",
            "\n",
            "Tamil Nadu State Agricultural Marketing Board is carrying out publicity and propaganda\n",
            "\n",
            "work highlighting the advantages of selling agricultural produce through Regulated Markets through publicity wing at Chennai, Madurai, Coimbatore and Tiruchirappalli. Top 2.Training to Farmers and Staff\n",
            "\n",
            "The training centre of Tamilnadu State Agricultural Marketing Board Chennai is functioning at Salem in an extent of 2.25 acres of land. This Training Centre caters to the training needs of the Market Committee employees and the farmers. Three different training programmes, viz; Graders Training, Market Committee Employees Refresher Training and Personal Contact Programme are conducted by this Training Centre. The graders training is conducted for the employees of the market committee for 30 days duration in 3 batches / year, comprising of 60 employees. The refresher training of 28 days duration is conducted for the Staff working in market committees @ 1 batch/year comprising of 20 persons. The Personal contact programme of 3 days duration is conducted for the farmers in 5 batches (20 farmers / batch) for 100 farmers. During this year 10,010 farmers are to be trained in the post harvest technologies, grading, food processing etc. at a cost of Rs. 52.50 lakhs. So far 3220 farmers have been trained and this will be continued. During the year 2008-09 10,000 farmers are to be trained in the post harvest technologies, grading, food processing etc. at a cost of Rs. 52.50 lakhs. 3.Establishing Marketing Endowment Chair at Tamil Nadu Agricultural University\n",
            "\n",
            "Tamil Nadu State Marketing Board has created an Endowment Chair at the Centre for Agricultural and Rural Development Studies, TNAU, Coimbatore, with a corpus fund of Rs.50.00 lakhs. 29 Various research studies and 19 training programmes have been conducted for the Department Officers and farmers, utilizing the interest accrued from corpus fund deposit. 4.Construction Works\n",
            "\n",
            "The Engineering wing of the department execute civil works such as construction of\n",
            "\n",
            "office buildings, rural godowns, auction platform, shopping complex, agricultural input shops, payment counters, rest sheds, water supply, toilet facilities, internal roads, godowns, compound wall, etc. in the Regulated Markets. 5.Market Development Fund\n",
            "\n",
            "The Tamil Nadu State Agricultural Marketing Board derives its fund resource from the Market Committees. The Market Committees contribute 15% of their receipts to the Board. Fifty percent of this amount is set apart as Market Development Fund, from which expenditure towards market developmental activities including training / publicity and propaganda are met. 6.Domestic and Export Market Intelligence and Guidance Cell at Tamil Nadu Agricultural University\n",
            "\n",
            "Agricultural Produce Domestic and Export Intelligence Guidance Cell has been established in the Tamil Nadu Agricultural University at a cost of Rs.44.00 lakhs from the Tamil Nadu State Agricultural Marketing Board. The Cell would collect details on prices of major commodities at domestic and international markets, analyse and forecast future domestic and export prices. The Cell transmits the forecast prices prevailing in other states and in the forthcoming months to the regulated markets and farmers. The Cell by providing this information helps the farmers to plan the cropping pattern and the right time and right market to sell their produce. This cell has been networked with the Agricultural Production and Marketing Information Centres established in regulated markets. 7.Irrigated Agriculture Modernization and Water Bodies Restoration Management (IAMWARM)\n",
            "\n",
            "IAMWARM Project is a World Bank assisted project. This project is being implemented in the selected 63 sub basins over a period of 6 years (2007-13). In the first year (2007-08), this project have been implemented in the 9 sub basins at a cost of Rs. 8.83 Crores. The projected cost for 63 sub basins is Rs. 24.84 Crores. During the year 2008-09 the project will be implemented in another 16 basins at a cost of Rs. 209.5 lakhs. Under this project, the following components like Drying yard, Storage shed, Collection Centre, Pack House, Agri Business Centre, Goods Auto, Mini Lorry, Moisture Meter, Weighing Scale, Dunnages and Tarpaulin will be provided to benefit the water users Association. Among the 250 groups, 210 groups for agricultural commodity and the remaining 40 groups for horticulture commodity were formed. Under this scheme,16 interface workshops, 15 outside the state exposure visit, 15 inside the state exposure visit, 14 post harvest technology training were also completed. In addition to that, 7 memorandum of understanding between farmers and entrepreneurs were signed.\n",
            "\n",
            "Agricultural Produce Marketing (Development and Regulation), Rules, 2007\n",
            "\n",
            "Contact Address\n",
            "\n",
            "Directorate of Agricultural Marketing and Agri Business Directorate,\n",
            "\n",
            "Thiru Vi Ka Industrial Estate, Chennai 600 032.\n",
            "\n",
            "Email : agmarkbusiness@rediffmail.com.\n",
            "\n",
            "Phone: 044- 22253884, 22253885.\n",
            "\n",
            "Website : www.agriculture.tn.nic.in, www.tnagmark.tn.nic.in. Top\n"
          ],
          "name": "stdout"
        }
      ]
    },
    {
      "cell_type": "code",
      "metadata": {
        "id": "fMGt3dc7Patt"
      },
      "source": [
        "#tokenization\n",
        "text = agri\n",
        "sentence_list = nltk.sent_tokenize(text) \n"
      ],
      "execution_count": 12,
      "outputs": []
    },
    {
      "cell_type": "code",
      "metadata": {
        "id": "eey1SaZQUAbG",
        "colab": {
          "base_uri": "https://localhost:8080/"
        },
        "outputId": "f117dee6-8846-4a43-930a-38b4627cf0dd"
      },
      "source": [
        "print(sentence_list)\n",
        "print(agricitease_list)"
      ],
      "execution_count": 13,
      "outputs": [
        {
          "output_type": "stream",
          "text": [
            "['Agricultural Marketing in India\\n\\nAgricultural Marketing in Tamilnadu Agricultural Marketing in India India is an agricultural country and one third population depends on the agricultural sector directly or indirectly.', 'Agriculture remains as the main stray of the Indian economy since times immemorial.', 'Indian agriculture contribution to the national gross domestic product (GDP) is about 25 per cent.', 'With food being the crowning need of mankind, much emphasis has been on commercialising agricultural production.', 'For this reason, adequate production and even distribution of food has of late become a high priority global concern.', 'Agricultural marketing is mainly the buying and selling of agricultural products.', 'In earlier days when the village economy was more or less self-sufficient the marketing of agricultural products presented no difficulty as the farmer sold his produce to the consumer on a cash or barter basis.', \"Today's agricultural marketing has to undergo a series of exchanges or transfers from one person to another before it reaches the consumer.\", 'There are three marketing functions involved in this, i.e., assembling, preparation for consumption and distribution.', 'Selling on any agricultural produce depends on some couple of factors like the demand of the product at that time, availability of storage etc.', 'The products may be sold directly in the market or it may be stored locally for the time being.', 'Moreover, it may be sold as it is gathered from the field or it may be cleaned, graded and processed by the farmer or the merchant of the village.', 'Sometime processing is done because consumers want it, or sometimes to conserve the quality of that product.', 'The task of distribution system is to match the supply with the existing demand by whole selling and retailing in various points of different markets like primary, secondary or terminal markets.', 'Most of the agricultural products in India are sold by farmers in the private sector to moneylenders (to whom the farmer may be indebted) or to village traders.', 'Products are sold in various ways.', \"For example, it might be sold at a weekly village market in the farmer's village or in a neighboring village.\", 'If these outlets are not available, then produce might be sold at irregularly held markets in a nearby village or town, or in the mandi.', 'In India, there are several central government organisations, who are involved in agricultural marketing like, Commission of Agricultural Costs and Prices, Food Corporation of India, Cotton Corporation of India, Jute Corporation of India, etc.', 'There are also specialised marketing bodies for rubber, tea, coffee, tobacco, spices and vegetables.', 'Under the Agricultural Produce (grading and marketing) Act of 1937, more than forty primary commodities are compulsorily graded for export and voluntarily graded for internal consumption.', 'Although the regulation of commodity markets is a function of state government, the directorate of marketing and inspection provides marketing and inspection services and financial aid down to the village level to help set up commodity grading centers in selected markets.', 'As we have a tradition of agricultural production, marketing and allied commercial activities, now it is the time for us to brainstorm and come out with new ideas of value added services.', 'These value added services will give the existing agricultural engine a new dimension.', 'The next logical step could be food-processing which not only could be another revenue generating area but also can provide lots of full-time employment to our youths.', 'With the changing agricultural scenario and global competition, there is a need of exploiting the available resources at maximum level.', 'There was a survey undertaken by the directorate of marketing and inspection in the ministry of agriculture in 1970-71 and 1971-72, of five hundred regulated markets was, with a view to assessing the adequacy and efficiency of the existing regulated markets and highlighting their drawbacks and deficiencies and suggesting measures to develop them.', 'One of the most important drawbacks has been the inadequate financial resources of some of the market committees.', 'During the fourth plan, a central sector scheme was drawn up by the ministry of agriculture to provide a grant at 20 per cent of the cost of development of market, subject to a maximum of Rs.', '2 lakhs.', 'The balance will have to be provided by the commercial banks.', 'Another important development in the field of regulated markets is the keen interest taken by the International Development Agency (IDA) in the development of the infrastructure in regulated markets.', 'The IDA is financing the development of infrastructure in 50 markets of Bihar.', 'There are also some good news on the front of irrigation, rural infrastructure, restoring water bodies and water harvesting.', 'Another action initiated to improve the governance of the Small Farmers Agri-business Consortium (SFAC) including the appointment of a banker as the chief executive; necessary additional capital to be provided to SFAC.', 'Source:http://www.domain-b.com/economy/agriculture/20040713_marketing.html Top Agricultural Marketing in Tamilnadu Introduction\\n\\nThe Vision of the Department of Agricultural Marketing & Agri Business is to ensure fair price to the farming community who are left behind in the competitive marketing scenario and the mission of achieving this is by enforcing the existing act and rules most effectively and also by devising, implementing new technologies aimed at reducing pre and post harvest losses through appropriate methods and encourage value addition.', 'Green Revolution initiatives achieved self-sufficiency by increasing food grains production.', 'Simultaneously, several initiatives have been taken to promote agricultural marketing in the state.', 'Agricultural Marketing infrastructure plays a pivotal role in fostering and sustaining the tempo of rural economic development.', 'Marketing is as critical to better performance in agriculture as farming itself.', 'Agri Business is a process, which starts with a decision to produce a saleable farm commodity and it involves all the aspects relating to pre and post-harvest operations including grading, value addition, packaging, processing and transportation.', 'These operations add value to farm produce.', 'The Department of Agricultural Marketing, which is functioning since 1977, with the main objective of Regulation of Agricultural Marketing, was renamed in the year 2001 as Department of Agricultural Marketing and Agri.', 'Business in order to focus on other activities like Agri Export, Post Harvest Management, Food Processing, etc.', 'Restructure One Deputy Director of Agriculture (Agri Business) for each district, one Agricultural Officer for every two blocks, one Assistant Agricultural Officer for one block have been posted as per restructuring to regulate Agri Business and encourage entrepreneurs.', 'In 103\\n\\nUzhavar Sandhais, 51 Agricultural Officers and 52 Deputy Agricultural Officers are posted.', 'After restructuring 239 original posts have been enhanced to 906 posts in Agricultural Marketing and Agri Business Department.', 'The Main Activities Establishment and maintenance of Uzhavar Sandhaigal for the benefit of farmers as well as consumers.', 'To create marketing opportunities for small and marginal farmers in cultivation of fruits, vegetables and flowers by formation of groups which includes production, storing and export.', 'Establishment and maintenance of regulated markets in order to facilitate buying and\\n\\nselling of agricultural produce for the benefit of the farming community.', 'Grading of agricultural produce in the regulated markets and at farm holdings to help the producers to get remunerative price for their produce.', 'To create awareness among the farmers about the benefits of grading, marketing, value addition and processing their produce through regulated markets by taking up training, publicity and propaganda.', 'To set up Agriculture Export Zones for promoting export of agricultural produce by increasing the area under exportable crops, providing necessary post harvest management and other infrastructure required and information on prices prevailing at international markets as an integrated approach through computers.', 'To take up Agmark grading of agricultural, animal husbandry and forestry products for the benefit of the consumers.', 'To set up modern cold storage facilities to enable the farmers to store and sell their produce at favourable price and to help consumers to get quality food products.', 'Food Processing Industries are promoted to minimise wastage of agricultural products,\\n\\nto increase employment opportunities and to enhance foreign exchange.', 'MARKET COMMITTEES\\n\\nAt present 21 Market committees are functioning in Tamil Nadu at district Level.', 'Top 1.Regulated Markets There are 277 Regulated Markets, 15 Check Posts, 108 Rural Godowns and 108 grading centres functioning under the Market Committees, Competitive and remunerative prices are ensured for the produce sold by the farmers through closed tender system in the Regulated Markets.', 'Free Grading facilities for agricultural commodities and issuing pledge loan during distress sale are also available in the Regulated Markets.', 'The farmers of states of Maharashtra, Karnataka and Andhra Pradesh, sell their produce only through regulated markets as compulsory marketing is in force.', '1 to 2 % of the value of the produce is collected as market fees from the traders who procure the produce from the farmers.', 'The procurement method is simplified in Tamilnadu so as to benefit the farmer.', '1% of the value of the produce is collected as market fee from traders.', 'Action is being taken for the construction of own building for Nilgiris Market Committee and 4 regulated markets at Ooty, Kothagiri, Coonur and Gudalur during this year at a cost of Rs.', '3.25 crores.', 'Necessary steps will be taken to acquire land for this purpose through District Collector, Nilgiris.', '2.Services Rendered in the Regulated Markets Regulated Markets provides facilities such as correct weighment by using electronic weigh bridges and weighing balances, godown facilities, bank facility, immediate payment, daily price information, rest sheds, drinking water facility, cattle sheds, free medical aid to farmers, input shops, phone and fax facilities etc.', 'Under \"AGMARKNET\" centrally sponsored scheme 93 regulated markets have been provided with computer and Internet connectivity for effective price dissemination among farmers through AGMARKNET website.', 'The information on commodity prices prevailing in various markets is made available; the farmers would be able to get better price of their produce by moving their produce to the market which pays higher.', 'During the year 2007-08, 100 Regulated markets were computerized through AGMARKNET.', 'The Market Committee-wise infrastructure facilities provided in the Regulated 3.Notification of produce So far, 42 Agricultural Commodities like cereals, millets, pulses, oilseeds, cotton, turmeric, etc.', 'have been notified.', 'Necessary action is being taken for Uniform notification of agricultural commodities throughout the state during this financial year.', '4.Pledge Loan Facilities to Farmers In order to avoid distress sales by the small and marginal farmers in the peak season, Regulated Markets are issuing pledge loan to farmers.', 'Under this scheme, the farmers can store their agricultural produce in the godowns of Regulated Markets for a maximum period of 6 months and take pledge loan of 75% of the total value of the produce upto a maximum of Rs.1,00,000.', 'Likewise Pledge Loan facilities are extended to traders also with the rate of interest specified from time to time.', 'Interest at the rate 9% for traders is charged for pledge loan facilities.', 'During the previous financial year interest rates were reduced from 8% to 5% for the benefit of farmers.', '5.Tamil Nadu Farmers Development and Welfare Scheme Under this scheme, the farmers / tenants who sell one metric tone of paddy (or) equivalent value of their agricultural produce through Regulated Markets every year will be enrolled under this scheme and are eligible for a grant of a lumpsum amount up to Rs.', '1,00,000, in case of death/ permanent disability occurring due to accident / death due to snake bite.', 'In case the eligible farmer / tenant looses both the hands or either the legs or both the eyes due to accident, is eligible for a grant of Rs.75, 000/-.', 'Incase of losing one hand or one leg or one eye or hip disability due to accident the farmer / tenant is eligible for a grant of Rs.50,000/-.', 'The farmers need not pay any premium for this fund.', 'The Market Committee concerned and the Tamil Nadu State Agricultural Marketing Board will bear the premium amount of Rs.10 per individual per year equally.', '6.Agmark Grading Agmark grading is undertaken to protect the consumers from the ill effects of consuming adulterated food commodities and to ensure quality food products.', '30 Agmark grading laboratories and 1 Principal Agmark Grading Laboratory are engaged in grading the notified food products like vegetableoils, ghee, butter, honey, wheatflour, besanflour, ground spices, sago, rice, pulses, ragi, jaggery, turmeric, potato etc.', 'During the previous financial year, sophisticated equipments has been purchased for Rs.', '25.46 lakhs under Part- II Scheme for State Agmark grading Labs and Agricultural Marketing Centres in order to benefit the packers and consumers.', 'Top 7.Construction of Drying Yards in the Villages Out of 10% of Agricultural commodity wastage, 6% loss is due to not adhering proper post harvest practices.', 'In order to minimise the post harvest losses in grains, the department has taken up construction of drying yards at village level.', 'From the year 1997 under this scheme, 1228 drying yards have been constructed at a total cost of Rs.23.20 crores.', 'During the year 2007- 08 construction of 100 Drying Yards at a cost of Rs.', '2.50 crores is under progress.', 'This scheme shall continue during 2008 – 09.', 'Uzhavar Sandhaigal 103 uzhavar Sandhais are functioning in the state in Municipality and Town Panchayat areas for direct selling of fruits and vegetables by farmers to consumers without any hindrance of middlemen.', 'The main object of Uzhavar Sandhai are to ensure farmers to get a better price for their produce and to enable the consumers to get fresh fruits and vegetables at a lesser price than the retail market price.', 'During the year 2007- 08, action is being taken to establish 50 more Uzhavar Sandhais at a cost of Rs.', '11.25 crores.', 'Hasthampatti Uzhavar Sandhai in Salem district has been inaugurated on 14.01.2008.', 'As on date 104 Uzhavar Sandhais are functioning .Action is being taken to establish the remaining 49 Uzhavar Sandhais.', 'Cold storage rooms of 2.0 M.T.', 'capacities are to be installed in 22 top performing Uzhavar Sandhais at a cost of Rs.133.10 lakhs.', 'Various measures are taken by this Department to increase the arrivals in Uzhavar Sandhai, increase the number of farmers and for development of Uzhavar Sandhai.', 'Everyday, on an average, 1053 MT of fruits and vegetable worth Rs.108 lakhs are sold benefiting 7800 farmers and 1,97,000 consumers per day.', 'Services to be rendered in the Uzhavar Sandhaigal\\n\\nAdditional facilities like electronic weighing scale, Plastic trays, trolleys, wastage bins will be provided for the farmers in the Uzhavar Sandhaigal.', 'Computers for effective communication, new hybrid seeds, seedlings, organic farming methodology, vermicomposting demonstration and post harvest management training to farmers will also be offered to those farmers visiting Uzhavar Sandhai.', '25 Uzhavar Sandhais have been supplied with computers.', 'ESTABLISHMENT OF MARKET COMPLEX 1.Establishment of Market Complex for Mango and Onion.', 'For the interest of the small and marginal farmers action is being taken to establish market complex with cold storage facility at Pongalur in Coimbatore District for Onion and at Krishnagiri in Krishnagiri District for Mango at a project cost of Rs.', '2 crores each (Total Rs.4 crores).', 'Entrepreneurs have submitted their Expression of Interest and Detailed Project Report.', 'The Projects were evaluated by the evaluation committee and the evaluation report and joint venture agreement with M/S Premium Farm Fresh Produces Limited, New Delhi as a equity partner with Tamilnadu State Agricultural Marketing Board is under consideration.', '2.Establishment of Market Complex for Grapes at Odaipatti, Theni District.', 'Cold storage unit at Odaipatti in Theni District will be established at a cost of Rs.', '3.75 crores for grapes in order to facilitate grading, packing and export of grapes, so as to benefit the grape growers.', 'The evaluation proposal submitted by M/s.', 'Peninsula Agro Tech India Ltd. of Theni District as a equity partner with Tamilnadu Agricultural Marketing Board is under consideration.', 'Top 3.Establishment of Terminal Markets As per the guidelines of the central Government, three Terminal Markets with all value addition facilities would be established near metro areas of Chennai, Madurai and Coimbatore for processing, storage and marketing of perishables like fruits and vegetables at a total cost ofRs.200 crores.', 'Consultants have been selected to implement the project.', 'M/s Darasha and company private ltd Mumbai, selected as a consultancy agency for implementing the Terminal Market scheme in Tamil Nadu.', 'An Agreement was executed with the consultancy firm on 10.12.07 by Tamilnadu State Agricultural Marketing Board, Chennai to prepare RFQ, RFP and DPR.', 'Global Tender has been floated.', 'Agricultural Production and Marketing Information Centre Market intelligence plays a vital role in marketing agricultural produce.', 'If the information on commodity prices prevailing in various markets is made available, the farmers would be able to get better price to their produce by moving their produce to the market which pays higher.', 'Taking this aspect into consideration, Agricultural Production and Marketing Information Centre has been established in 14 Regulated Markets like Dindugal, Alangudi, Madurai, Thirumangalam, Theni, Sivagangai, Ramanathapuram, Aruppukottai, Virudhunagar, Rajapalayam, Tirunelveli, Tuticorin, Vadaseri and Monday Market at a cost of Rs.45.00 lakhs.', 'These centres were provided with computer and accessories with internet facility and electronic display boards.', 'Agricultural Produce arrival, price details and post harvest management practices in the regulated markets are flashed in the Electronic display boards, for the benefit of farmers.', 'AGRI EXPORT ZONES\\n\\nTo promote Agri Horticultural Produce Exports from Tamil Nadu, four Agri Export Zones for specific commodities have been established as detailed below.', '1 Agri Export Zone for Cut Flowers at Hosur comprising of Dharmapuri and Krishnagiri Districts In Tamil Nadu, Agri Export Zone for cut flowers has been approved and Memorandum of Understanding was signed with APEDA.', 'In 198.73 acres of land, “TANFLORA”, a joint venture company of TIDCO and private promoter established infrastructural facilities like Central Packing House comprising of sorting, grading, packaging, cold storage and marketing facilities at Hosur at a cost of Rs.', '24.85 crores.', 'During the year 2007-08, 120 lakhs of cut flowers worth Rs.12 Crores have been exported to Europe, Middle and Far East Asian countries, Australia and Japan 2.Agri Export Zone for flowers in Nilgiris District.', 'An Agri Export Zone for flowers at Ooty covering Nilgiris district is being established with the participation by private promoter at a project cost of Rs.', '15.89 crores.', 'Memorandum of Understanding has been signed with APEDA.', 'Infrastructure facilitie s like auction centre, mother plant nursery, pre-cooling, cold storage, reefer vans, Hi-tech training centre, common marketing facility, etc., are to be provided in the zone.', 'The department of Horticulture & Plantation Crops is conducting Hi-tech floriculture training and providing planting materials at 50% subsidized cost and subsidy for green houses, shade nets to flower growers.', 'An information centre for providing technical consultancy and other horticultural information to the growers established at Ooty.', 'On 6.2.2007, Electronic Flower Auction centre at a cost of Rs.', '11 lakhs has been\\n\\nopened in Nilgiris and it is utilised by the farmers to sell their flowers.', '3.Agri Export Zone for Mangoes in Theni District.', 'An Agri Export Zone exclusively for mango has been established in Theni and five other districts namely Madurai, Virudhunagar, Tirunelveli, Dindigul and Kaniyakumari with private sector participation at a project cost of Rs.24.60 crores.', 'Memorandum of Understanding has been signed with APEDA.', 'The private promoter M/s.', 'Maagrita Exports Limited has established infrastructure facilities like state of the art Pack House, collection centre, processing units, grading halls, hot-water treatment plant, pulping centre, dehydration unit, canning unit, etc.', 'in Nilakkottai Food Park.', 'Top 4.Agri Export Zone for Cashew in Cuddalore District.', 'Agri Export Zone for cashew at a project cost of Rs.', '17 crores at Cuddalore district has been approved.', 'Memorandum of Understanding has been singed with APEDA.', 'M/s Sattva Agro Export Pvt.Ltd., has been selected as the anchor promoter for cashew Agri Export Zone through private promoter participation.', 'The Detailed Project Report for the construction of common infrastructure facilities was prepared by M/S Sattva Exports and handed over to TIDCO.', 'TIDCO has approved to release an amount of Rs.', '47.25 lakhs as State equity to M/S Sattva Agro Export Pvt.', 'Ltd.', 'The Agri Export Zone work commenced in the year 2006-07 and the construction of infrastructure facilities and modernised nurseries is under progress.', 'A survey has been conducted by the Firm for the procurement of cashew from 120 farmers through contract farming.', 'Establishment of Cold Chain In Tamil Nadu 100 lakh M.T.', 'of fruits & vegetables, 75 lakh M.T.', 'of food grains, 3 lakh M.T.', 'of spices and condiments, 5 lakh M.T.', 'of plantation crops are produced.', 'The production of these produces by adopting advanced technologies likely to increase by 30% in the next 5 years.', 'Out of the total production 8-10% of food grains, 30-35% of fruits and vegetables are wasted due to nonavailability of proper storage/cold storage facility.', 'Due to this farmers get 15-25% less price for their produce.', 'To minimize post harvest losses of agricultural produce, especially fruits and vegetables, cereals, spices and plantation crops, it is proposed to set up Cold Chain through public-private participation utilising NABARD fund and NHB subsidy in 15 places.', 'These cold chains will be established taking into consideration the proximity of the vegetable producing area, trading area, public places like community centres, agricultural extension centres etc.', 'Food Processing Industries Processing of food eliminates wastage of agricultural produce to a greater extent.', 'Food processing is gaining momentum as food-processing industries ensure steady and better price to the farming community as well as availability of the commodities in processed form to the consumer throughout the year.', 'By cultivation of good quality processable agricultural produce the farmers stand to gain better returns and employment opportunity.', 'The Agricultural Marketing and Agri Business department acts as a Nodal agency for Ministry of Food Processing Industries, Government of India.', 'Food Park at Dindigul District, Nilakkottai Industrial Estate is being set up at a total cost of Rs.13.00 crores.', 'In Total, from Tamilnadu 441 proposals worth Rs.555.93 crores to establish food processing related projects have been forwarded to the Ministry of Food Processing Industries, Government of India with recommendations for grant of Rs.', '97.51 Crores.', 'So far an amount of Rs.', '42.95 Crores grant has been released for 197 projects.', 'Tamil Nadu Small Farmers Agri-business Consortium (TNSFAC) The main objective of TNSFAC is to link the small farmers to technologies as well as to market in association with private, corporate, co-operative sectors, by providing both forward and backward linkages.', 'The venture capital assistance of Rs.563.77 lakhs for 20 projects with a project cost of Rs.', '4909.51 lakhs has been sanctioned by Small Farmers Agri-business Consortium.', 'Tamil Nadu State Agricultural Marketing Board\\n\\nThe important functions of the Board are as follows: 1.Publicity and Propaganda\\n\\nTamil Nadu State Agricultural Marketing Board is carrying out publicity and propaganda\\n\\nwork highlighting the advantages of selling agricultural produce through Regulated Markets through publicity wing at Chennai, Madurai, Coimbatore and Tiruchirappalli.', 'Top 2.Training to Farmers and Staff\\n\\nThe training centre of Tamilnadu State Agricultural Marketing Board Chennai is functioning at Salem in an extent of 2.25 acres of land.', 'This Training Centre caters to the training needs of the Market Committee employees and the farmers.', 'Three different training programmes, viz; Graders Training, Market Committee Employees Refresher Training and Personal Contact Programme are conducted by this Training Centre.', 'The graders training is conducted for the employees of the market committee for 30 days duration in 3 batches / year, comprising of 60 employees.', 'The refresher training of 28 days duration is conducted for the Staff working in market committees @ 1 batch/year comprising of 20 persons.', 'The Personal contact programme of 3 days duration is conducted for the farmers in 5 batches (20 farmers / batch) for 100 farmers.', 'During this year 10,010 farmers are to be trained in the post harvest technologies, grading, food processing etc.', 'at a cost of Rs.', '52.50 lakhs.', 'So far 3220 farmers have been trained and this will be continued.', 'During the year 2008-09 10,000 farmers are to be trained in the post harvest technologies, grading, food processing etc.', 'at a cost of Rs.', '52.50 lakhs.', '3.Establishing Marketing Endowment Chair at Tamil Nadu Agricultural University\\n\\nTamil Nadu State Marketing Board has created an Endowment Chair at the Centre for Agricultural and Rural Development Studies, TNAU, Coimbatore, with a corpus fund of Rs.50.00 lakhs.', '29 Various research studies and 19 training programmes have been conducted for the Department Officers and farmers, utilizing the interest accrued from corpus fund deposit.', '4.Construction Works\\n\\nThe Engineering wing of the department execute civil works such as construction of\\n\\noffice buildings, rural godowns, auction platform, shopping complex, agricultural input shops, payment counters, rest sheds, water supply, toilet facilities, internal roads, godowns, compound wall, etc.', 'in the Regulated Markets.', '5.Market Development Fund\\n\\nThe Tamil Nadu State Agricultural Marketing Board derives its fund resource from the Market Committees.', 'The Market Committees contribute 15% of their receipts to the Board.', 'Fifty percent of this amount is set apart as Market Development Fund, from which expenditure towards market developmental activities including training / publicity and propaganda are met.', '6.Domestic and Export Market Intelligence and Guidance Cell at Tamil Nadu Agricultural University\\n\\nAgricultural Produce Domestic and Export Intelligence Guidance Cell has been established in the Tamil Nadu Agricultural University at a cost of Rs.44.00 lakhs from the Tamil Nadu State Agricultural Marketing Board.', 'The Cell would collect details on prices of major commodities at domestic and international markets, analyse and forecast future domestic and export prices.', 'The Cell transmits the forecast prices prevailing in other states and in the forthcoming months to the regulated markets and farmers.', 'The Cell by providing this information helps the farmers to plan the cropping pattern and the right time and right market to sell their produce.', 'This cell has been networked with the Agricultural Production and Marketing Information Centres established in regulated markets.', '7.Irrigated Agriculture Modernization and Water Bodies Restoration Management (IAMWARM)\\n\\nIAMWARM Project is a World Bank assisted project.', 'This project is being implemented in the selected 63 sub basins over a period of 6 years (2007-13).', 'In the first year (2007-08), this project have been implemented in the 9 sub basins at a cost of Rs.', '8.83 Crores.', 'The projected cost for 63 sub basins is Rs.', '24.84 Crores.', 'During the year 2008-09 the project will be implemented in another 16 basins at a cost of Rs.', '209.5 lakhs.', 'Under this project, the following components like Drying yard, Storage shed, Collection Centre, Pack House, Agri Business Centre, Goods Auto, Mini Lorry, Moisture Meter, Weighing Scale, Dunnages and Tarpaulin will be provided to benefit the water users Association.', 'Among the 250 groups, 210 groups for agricultural commodity and the remaining 40 groups for horticulture commodity were formed.', 'Under this scheme,16 interface workshops, 15 outside the state exposure visit, 15 inside the state exposure visit, 14 post harvest technology training were also completed.', 'In addition to that, 7 memorandum of understanding between farmers and entrepreneurs were signed.', 'Agricultural Produce Marketing (Development and Regulation), Rules, 2007\\n\\nContact Address\\n\\nDirectorate of Agricultural Marketing and Agri Business Directorate,\\n\\nThiru Vi Ka Industrial Estate, Chennai 600 032.', 'Email : agmarkbusiness@rediffmail.com.', 'Phone: 044- 22253884, 22253885.', 'Website : www.agriculture.tn.nic.in, www.tnagmark.tn.nic.in.', 'Top']\n",
            "[' \"AGRICITEASE\" affinity founding between Farmers and Consumers\\n is an all-inclusive digital platform designed to assist farmers in selling their products The new move will eliminate the need for farmers to sell their products through retailers that will escalate in farmer\\'s profits.', 'Our web application and android app consists of three portals\\nFarmer -- one can upload their details and farm details as well.', 'Farmers will also be advised about the crop productivity based on present crop statistics\\n\\nConsumer -- Can purchase the products at fair price\\nRepresentative -- The one who works on behalf of unlettered and novice users by uploading their farm details and can earn about 5-10% on each fortunate deal.', 'Empowers employment for jobless.', 'For the feasibility of end user our app even provides language translation.', 'Market - Our Customers are Consumers and Users are Farmers and Representative.', 'We mainly want to Focus on customers who buy the yield in bulk amounts like Restaraunts, Hostels, Catering services etc; \\n\\nFeatures of Farmers Interface:\\nFarmers can upload their farm details and store them to be displayed for the consumers\\nFarmers can relate with the consumers through video calling to have a better experience and worthy trust\\nCan view the information in their required languages \\nEducating journals regarding seasonal crops and statistics of the profitable crops are provided for next harvest.', 'Features of Representatives Interface\\nRepresentatives can earn their living by aiding farmers in their\\nRepresentatives can upload farmers farm details .', 'Features of Consumers Interface\\nConsumer can have a Video Conference with the farmer for better experience\\nMore Information about Farmers is provided for the consumers for their further contact purposes\\nConsumer can view the crops and filter them based on the type and delivery date of the  crop  \\nConsumer can rate the quality of crop and can even given suggestions to the farmer\\n\\nDelivery - The yield will get delilvered in span of 10-15days.']\n"
          ],
          "name": "stdout"
        }
      ]
    },
    {
      "cell_type": "code",
      "metadata": {
        "id": "NazVlplRUFBo"
      },
      "source": [
        "# function to return random greeting response\n",
        "def greeting_response(text):\n",
        "  text = text.lower()\n",
        "\n",
        "  #bots greetinng response\n",
        "  bot_greetings = ['Hi there, how can we help you today?','Hi, Good to see you, do you need something?','Hey! Can I help you with something?','Hey! I am glad that you are here. Please tell me, how can I help you?']\n",
        "  #users greetings\n",
        "  user_greetings= ['hi','hellooo','hello','greetings','wassup']\n",
        "\n",
        "  for word in text.split():\n",
        "    if word in user_greetings:\n",
        "      return random.choice(bot_greetings)"
      ],
      "execution_count": 14,
      "outputs": []
    },
    {
      "cell_type": "code",
      "metadata": {
        "id": "YGvijks7BHVg"
      },
      "source": [
        "# function to return random goodbye response\n",
        "def goodbye_response(text):\n",
        "  text = text.lower()\n",
        "\n",
        "  #bots goodbye response\n",
        "  bot_goodbye = ['Bye!Have a good day!','Goodbye','Come visit us again.Bye-Bye!','See you later!']\n",
        "  #users goodbye\n",
        "  user_goodbye= ['byee','goodbye','adios','bye']\n",
        "\n",
        "  for word in text.split():\n",
        "    if word in user_goodbye:\n",
        "      return random.choice(bot_goodbye)"
      ],
      "execution_count": 15,
      "outputs": []
    },
    {
      "cell_type": "code",
      "metadata": {
        "id": "LJWz_AducSI1"
      },
      "source": [
        "#funtion to return about agrigobot\n",
        "def who_response(text):\n",
        "  text = text.lower()\n",
        "\n",
        "  #bots response\n",
        "  bot_whoresponse = ['Iam your very own AgriGo bot, here to help!',\"I'm AgriGo bot, here to assist you!\"]\n",
        "  #users ques\n",
        "  user_ques =['who are you?','what is your name?', 'what do you do?']\n",
        "\n",
        "\n",
        "  if text in user_ques:\n",
        "    return random.choice(bot_whoresponse)\n"
      ],
      "execution_count": 16,
      "outputs": []
    },
    {
      "cell_type": "code",
      "metadata": {
        "id": "nTh_GNRZ3v3i"
      },
      "source": [
        "# function to return random thank-you response\n",
        "def thanks_response(text):\n",
        "  text = text.lower()\n",
        "\n",
        "  #bots thanks response\n",
        "  bot_thanks = ['You got it','Don’t mention it','No worries','Not a problem','My pleasure','It was nothing','I’m happy to help','Anytime']\n",
        "  #users thanks\n",
        "  user_thanks= ['Thanks so much','Thanks a lot','Thanks a bunch','Thanks a ton', 'Thanks','thanks','thank you','thankyou']\n",
        "\n",
        "  for word in text.split():\n",
        "    if word in user_thanks:\n",
        "      return random.choice(bot_thanks)"
      ],
      "execution_count": 17,
      "outputs": []
    },
    {
      "cell_type": "code",
      "metadata": {
        "id": "ZK6h_DwJAwfc"
      },
      "source": [
        "# function to return for unmatched statements\n",
        "def idk_response(text):\n",
        "  text = text.lower()\n",
        "\n",
        "  #bots idk response\n",
        "\n",
        "  bot_idk = [\"What did you say?\",\"I don't understand.\",\"Excuse me, I didn't get it.\",\"Excuse me, can you please repeat it?\",\"Sorry, I did not catch that.\",\"I missed that.\",\"I don't get it.\",\"I’m afraid it is not clear what you saying.\",\"I am sorry, but I don’t follow what you are saying.\",\"I don’t catch what you said.Sorry.\"]\n",
        "\n",
        "  return random.choice(bot_idk)"
      ],
      "execution_count": 18,
      "outputs": []
    },
    {
      "cell_type": "code",
      "metadata": {
        "id": "KXu9jlADKgkM"
      },
      "source": [
        "def agricitease_response(user_input):\n",
        "\n",
        "  user_input = user_input.lower()\n",
        "  user_input1= user_input.split(\" \")\n",
        "  for word in user_input1:\n",
        "    if word in agricitease_list1:\n",
        "      agricitease_list.append(word)\n",
        "      agricitease_response = ''\n",
        "      cm = CountVectorizer().fit_transform(agricitease_list)\n",
        "      similarity_scores = cosine_similarity(cm[-1],cm)\n",
        "      similarity_scores_list = similarity_scores.flatten()\n",
        "      index = index_sort(similarity_scores_list)\n",
        "      index = index[1:]\n",
        "      response_flag = 0\n",
        "      j = 0\n",
        "      for i in range(len(index)):\n",
        "        if similarity_scores_list[index[i]] > 0.0:\n",
        "          colour = '\\33[34m'\n",
        "          agricitease_response = (fontstyle.apply('\\33[34m' \"Agri bot: \"  + agricitease_list[index[i]],'bold/Italic'))\n",
        "          response_flag = 1\n",
        "          j = j+1\n",
        "          if j >2:\n",
        "            break\n",
        "          if response_flag == 0:\n",
        "            color = '\\33[32m'\n",
        "            agricitease_response = (fontstyle.apply('\\33[32m' \"Agri bot: \" +idk_response(user_input),'bold/Italic'))\n",
        "            agricitease_list.remove(user_input)\n",
        "      return agricitease_response\n"
      ],
      "execution_count": 19,
      "outputs": []
    },
    {
      "cell_type": "code",
      "metadata": {
        "id": "sRRXL_N6Vybd"
      },
      "source": [
        "def index_sort(list_var):\n",
        "  length = len(list_var)\n",
        "  list_index = list(range(0, length))\n",
        "\n",
        "  x = list_var\n",
        "  for i in range(length):\n",
        "    for j in range(length):\n",
        "      if x[list_index[i]] > x[list_index[j]]:\n",
        "        #swap\n",
        "        temp = list_index[i]\n",
        "        list_index[i] = list_index[j]\n",
        "        list_index[j] = temp\n",
        "\n",
        "  return list_index"
      ],
      "execution_count": 20,
      "outputs": []
    },
    {
      "cell_type": "code",
      "metadata": {
        "id": "Pz91JAM0Uh7R"
      },
      "source": [
        "# create bot response\n",
        "def bot_response(user_input):\n",
        "  user_input = user_input.lower()\n",
        "  sentence_list.append(user_input)\n",
        "  bot_response = ''\n",
        "  cm = CountVectorizer().fit_transform(sentence_list)\n",
        "  similarity_scores = cosine_similarity(cm[-1],cm)\n",
        "  similarity_scores_list = similarity_scores.flatten()\n",
        "  index = index_sort(similarity_scores_list)\n",
        "  index = index[1:]\n",
        "  response_flag = 0\n",
        "\n",
        "  j = 0\n",
        "  for i in range(len(index)):\n",
        "    if similarity_scores_list[index[i]] > 0.0:\n",
        "      colour = '\\33[34m'\n",
        "      bot_response = (fontstyle.apply('\\33[34m' \"Agri bot: \"  + sentence_list[index[i]],'bold/Italic'))\n",
        "      response_flag = 1\n",
        "      j = j+1\n",
        "    if j >2:\n",
        "      break\n",
        "\n",
        "  if response_flag == 0:\n",
        "    color = '\\33[32m'\n",
        "    bot_response = (fontstyle.apply('\\33[32m' \"Agri bot: \" + idk_response(user_input),'bold/Italic'))\n",
        "\n",
        "  sentence_list.remove(user_input)\n",
        "   \n",
        "  return bot_response\n",
        "\n",
        "\n"
      ],
      "execution_count": 21,
      "outputs": []
    },
    {
      "cell_type": "code",
      "metadata": {
        "id": "IBTSXRpM9UT0"
      },
      "source": [
        ""
      ],
      "execution_count": 21,
      "outputs": []
    },
    {
      "cell_type": "code",
      "metadata": {
        "id": "vQiK7_rrBshC"
      },
      "source": [
        ""
      ],
      "execution_count": 21,
      "outputs": []
    },
    {
      "cell_type": "code",
      "metadata": {
        "id": "YazYV26JY2DR"
      },
      "source": [
        "#start chat\n",
        "Red_Font = '\\33[31m'\n",
        "print(Red_Font + fontstyle.apply(\"\\033[3mAgri Bot: I am Agri bot. I will answer your queries. If u want to exit please type: bye\",'bold/Italic'))\n",
        "\n",
        "\n",
        "while(True):\n",
        "  user_input = input()\n",
        "  if goodbye_response(user_input) != None  :\n",
        "    print(fontstyle.apply('\\33[33m' \"Agri bot: \"+goodbye_response(user_input),'bold/Italic'))\n",
        "    break\n",
        "  else:\n",
        "    if greeting_response(user_input) != None :\n",
        "\n",
        "      print(fontstyle.apply('\\33[36m' \"Agri bot: \"+ greeting_response(user_input),'bold/Italic'))\n",
        "    elif agricitease_response(user_input) != None :\n",
        "      print(fontstyle.apply( agricitease_response(user_input),'bold/Italic'))\n",
        "\n",
        "\n",
        "    elif who_response(user_input) != None:\n",
        "      print(fontstyle.apply('\\33[36m' \"Agri bot: \"+ who_response(user_input),'bold/Italic'))\n",
        "    elif thanks_response(user_input) != None:\n",
        "      print(fontstyle.apply('\\33[36m' \"Agri bot: \"+ thanks_response(user_input),'bold/Italic'))\n",
        "   \n",
        "    else:\n",
        "      print(bot_response(user_input))\n",
        "\n"
      ],
      "execution_count": null,
      "outputs": []
    },
    {
      "cell_type": "code",
      "metadata": {
        "id": "yR7W21UA5MZM"
      },
      "source": [
        "from google.colab import drive\n",
        "drive.mount('/content/drive')"
      ],
      "execution_count": null,
      "outputs": []
    }
  ]
}